{
 "cells": [
  {
   "cell_type": "markdown",
   "metadata": {
    "colab_type": "text",
    "id": "3oxVq6vQ76r7"
   },
   "source": [
    "# Mood Detection Chatbot\n",
    "\n",
    "(Original: Building a Conversational Chatbot for Slack using Rasa and Python - Parul Pandey)"
   ]
  },
  {
   "cell_type": "markdown",
   "metadata": {
    "colab_type": "text",
    "id": "kIFYA-Kp8aK4"
   },
   "source": [
    "**Objectives** To build a chatbot called ‘Robo’ capable of checking in on people’s mood and taking the necessary actions to cheer them up.\n",
    "\n"
   ]
  },
  {
   "cell_type": "code",
   "execution_count": 1,
   "metadata": {
    "colab": {},
    "colab_type": "code",
    "id": "R0_7gOmu0r3v"
   },
   "outputs": [],
   "source": [
    "%matplotlib inline\n",
    "\n",
    "import logging, io, json, warnings\n",
    "logging.basicConfig(level=\"INFO\")\n",
    "warnings.filterwarnings('ignore')"
   ]
  },
  {
   "cell_type": "markdown",
   "metadata": {
    "colab_type": "text",
    "id": "IVAF41hr8jU5"
   },
   "source": [
    "## Installations\n",
    "Official Documentation: https://rasa.com/docs/core/installation/\n",
    "* Python\n",
    "* Rasa Starter Pack\n",
    "* Spacy Language Model\n",
    "\n",
    "\n",
    "### Python\n",
    "* Install Anaconda 4.2.0 for Python 3.5 or Ananconda 5.2.0 for Python 3.6 (Note: on main page of Anaconda is https://www.anaconda.com/distribution/ you see Python 3.7, which is problematic, gives HTTP error while creating env. I had to delete 3.7 and get 3.6. Btw, this site does not mention which Anaconda installer has which Python version. WHY? thats the most crucial info. Anyway, I have given them here.)\n",
    "* Windows: Make sure the Microsoft $VC++$ Compiler Visual Studio 2015 is installed, so python can compile any dependencies\n",
    "* https://visualstudio.microsoft.com/visual-cpp-build-tools/ Download the installer and select VC++ Build tools in the list.\n",
    "\n",
    "\n",
    "### Python Environment\n",
    "* By installing conda, you get base or the root environment, which is the default.\n",
    "* Practical tip: DO NOT install any packages in the root. ALWAYS create and env and install inside the new env.\n",
    "* Env is needed esepcially for fragile packages like Python (its treated as a package) and rasa.\n",
    "* So, **conda create -n rasa python=3.6 boto3** (some additional package has to be given, so \"boto3\")\n",
    "* Env management is again a sour point. It creates complete copy (deeeep) of python 3.6 and all other packages inside \"envs\" folder. Goes to 1.5 GB!! Can someone optimize it?\n",
    "\n",
    "### Rasa Starter Environment\n",
    "\n",
    "* Clone the starter pack provided by Rasa from https://github.com/RasaHQ/starter-pack-rasa-stack\n",
    "* It gives latest running application\n",
    "* Let’s take a look at the folder structure and the files that were created \n",
    "* Install git, can git clone above package.\n",
    "* **cd starter-pack-rasa-stack;activate rasa; pip install -r requirements.txt**\n",
    "\n",
    "### Spacy Language Models\n",
    "* Download medium english **python -m spacy download en_core_web_md**\n",
    "* Link it under admin cmd **python -m spacy link en_core_web_md en --force**\n",
    "\n",
    "### Others\n",
    "* Install nb_conda_kernels to let Jupyter Notebook see the new env\n",
    "* Need Rasa Core SDK for custom actions **pip install rasa_core_sdk** and run it as **python -m rasa_core_sdk.endpoint --actions actions** where actions.py has all the custom actions\n",
    "* Install pygraphviz by **conda install -c alubbock pygraphviz**"
   ]
  },
  {
   "cell_type": "markdown",
   "metadata": {
    "colab_type": "text",
    "id": "yHYeAA859JGq"
   },
   "source": [
    "# Importing the Installations"
   ]
  },
  {
   "cell_type": "code",
   "execution_count": 2,
   "metadata": {
    "colab": {},
    "colab_type": "code",
    "id": "TSw6zFmk3iPu"
   },
   "outputs": [],
   "source": [
    "import rasa_nlu\n",
    "import rasa_core\n",
    "import spacy"
   ]
  },
  {
   "cell_type": "markdown",
   "metadata": {
    "colab_type": "text",
    "id": "aEw5vhSq9gWa"
   },
   "source": [
    "# 1. Teaching the bot to understand user inputs using Rasa NLU"
   ]
  },
  {
   "cell_type": "markdown",
   "metadata": {
    "colab_type": "text",
    "id": "oDEAOmaI9o4a"
   },
   "source": [
    "## Preparing the NLU Training Data"
   ]
  },
  {
   "cell_type": "code",
   "execution_count": 3,
   "metadata": {
    "colab": {
     "base_uri": "https://localhost:8080/",
     "height": 34
    },
    "colab_type": "code",
    "id": "RPxeQ1_14CjK",
    "outputId": "bfb5974f-f8ea-46b8-b8cb-9dd4479ed9cc"
   },
   "outputs": [
    {
     "name": "stdout",
     "output_type": "stream",
     "text": [
      "Writing 'nlu_md' (str) to file 'nlu.md'.\n"
     ]
    }
   ],
   "source": [
    "nlu_md = \"\"\"\n",
    "## intent:greet\n",
    "- hey\n",
    "- hello there\n",
    "- hi\n",
    "- hello there\n",
    "- good morning\n",
    "- good evening\n",
    "- moin\n",
    "- hey there\n",
    "- let's go\n",
    "- hey dude\n",
    "- goodmorning\n",
    "- goodevening\n",
    "- good afternoon\n",
    "\n",
    "## intent:goodbye\n",
    "- cu\n",
    "- good by\n",
    "- cee you later\n",
    "- good night\n",
    "- good afternoon\n",
    "- bye\n",
    "- goodbye\n",
    "- have a nice day\n",
    "- see you around\n",
    "- bye bye\n",
    "- see you later\n",
    "\n",
    "## intent:mood_affirm\n",
    "- yes\n",
    "- indeed\n",
    "- of course\n",
    "- that sounds good\n",
    "- correct\n",
    "\n",
    "## intent:mood_deny\n",
    "- no\n",
    "- never\n",
    "- I don't think so\n",
    "- don't like that\n",
    "- no way\n",
    "- not really\n",
    "\n",
    "## intent:mood_great\n",
    "- perfect\n",
    "- very good\n",
    "- great\n",
    "- amazing\n",
    "- feeling like a king\n",
    "- wonderful\n",
    "- I am feeling very good\n",
    "- I am great\n",
    "- I am amazing\n",
    "- I am going to save the world\n",
    "- super\n",
    "- extremely good\n",
    "- so so perfect\n",
    "- so good\n",
    "- so perfect\n",
    "\n",
    "## intent:mood_unhappy\n",
    "- my day was horrible\n",
    "- I am sad\n",
    "- I don't feel very well\n",
    "- I am disappointed\n",
    "- super sad\n",
    "- I'm so sad\n",
    "- sad\n",
    "- very sad\n",
    "- unhappy\n",
    "- bad\n",
    "- very bad\n",
    "- awful\n",
    "- terrible\n",
    "- not so good\n",
    "- not very good\n",
    "- extremly sad\n",
    "- so saad\n",
    "- Quite bad - can I get a cute picture of a [bird](group:birds), please?\n",
    "- Really bad and only [doggo](group:shibes) pics and change that.\n",
    "- Not good. The only thing that could make me fell better is a picture of a cute [kitten](group:cats).\n",
    "- so sad. Only the picture of a [puppy](group:shibes) could make it better.\n",
    "- I am very sad. I need a [cat](group:cats) picture.\n",
    "- Extremely sad. Only the cute [doggo](group:shibes) pics can make me feel better.\n",
    "- Bad. Please show me a [bird](group:birds) pic!\n",
    "- Pretty bad to be honest. Can you show me a [puppy](group:shibes) picture to make me fell better?\n",
    "\n",
    "## intent: inform\n",
    "- A [dog](group:shibes)\n",
    "- [dog](group:shibes)\n",
    "- [bird](group:birds)\n",
    "- a [cat](group:cats)\n",
    "- [cat](group:cats)\n",
    "- a [bird](group:birds)\n",
    "- of a [dog](group:shibes)\n",
    "- of a [cat](group:cats)\n",
    "- a [bird](group:birds), please\n",
    "- a [dog](group:shibes), please\n",
    "\"\"\"\n",
    "\n",
    "%store nlu_md > nlu.md"
   ]
  },
  {
   "cell_type": "markdown",
   "metadata": {
    "colab_type": "text",
    "id": "ceazcacn9veB"
   },
   "source": [
    "## Defining the NLU Model Configuration"
   ]
  },
  {
   "cell_type": "code",
   "execution_count": 4,
   "metadata": {
    "colab": {
     "base_uri": "https://localhost:8080/",
     "height": 34
    },
    "colab_type": "code",
    "id": "dF60NWhR4ID6",
    "outputId": "92946645-94fc-4450-aa41-eca8895ff83c"
   },
   "outputs": [
    {
     "name": "stdout",
     "output_type": "stream",
     "text": [
      "Writing 'config' (str) to file 'config.yml'.\n"
     ]
    }
   ],
   "source": [
    "config = \"\"\"\n",
    "language: \"en\"\n",
    "\n",
    "pipeline:\n",
    "- name: \"nlp_spacy\"                   # loads the spacy language model\n",
    "- name: \"tokenizer_spacy\"             # splits the sentence into tokens\n",
    "- name: \"ner_crf\"                   # uses the pretrained spacy NER model\n",
    "- name: \"intent_featurizer_spacy\"     # transform the sentence into a vector representation\n",
    "- name: \"intent_classifier_sklearn\"   # uses the vector representation to classify using SVM\n",
    "- name: \"ner_synonyms\"                # trains the synonyms\n",
    "\n",
    "policies:\n",
    "  - name: KerasPolicy\n",
    "    epochs: 100\n",
    "    max_history: 5\n",
    "  - name: FallbackPolicy\n",
    "    fallback_action_name: 'action_default_fallback'\n",
    "  - name: MemoizationPolicy\n",
    "    max_history: 5\n",
    "  - name: FormPolicy\n",
    "\"\"\" \n",
    "\n",
    "%store config > config.yml"
   ]
  },
  {
   "cell_type": "markdown",
   "metadata": {
    "colab_type": "text",
    "id": "ieoWk91X9y8X"
   },
   "source": [
    "## Training the NLU Model."
   ]
  },
  {
   "cell_type": "code",
   "execution_count": 5,
   "metadata": {
    "colab": {
     "base_uri": "https://localhost:8080/",
     "height": 445
    },
    "colab_type": "code",
    "id": "dp3AIHmS4L6x",
    "outputId": "8011c4f7-c789-4138-84d7-4710207615d8"
   },
   "outputs": [
    {
     "name": "stderr",
     "output_type": "stream",
     "text": [
      "INFO:rasa_nlu.training_data.loading:Training data format of nlu.md is md\n",
      "INFO:rasa_nlu.training_data.training_data:Training data stats: \n",
      "\t- intent examples: 85 (7 distinct intents)\n",
      "\t- Found intents: 'mood_affirm', 'goodbye', 'mood_great', 'greet', 'mood_deny', 'inform', 'mood_unhappy'\n",
      "\t- entity examples: 18 (1 distinct entities)\n",
      "\t- found entities: 'group'\n",
      "\n",
      "INFO:rasa_nlu.utils.spacy_utils:Trying to load spacy model with name 'en'\n",
      "INFO:rasa_nlu.components:Added 'nlp_spacy' to component cache. Key 'nlp_spacy-en'.\n",
      "INFO:rasa_nlu.model:Starting to train component nlp_spacy\n",
      "INFO:rasa_nlu.model:Finished training component.\n",
      "INFO:rasa_nlu.model:Starting to train component tokenizer_spacy\n",
      "INFO:rasa_nlu.model:Finished training component.\n",
      "INFO:rasa_nlu.model:Starting to train component ner_crf\n",
      "INFO:rasa_nlu.model:Finished training component.\n",
      "INFO:rasa_nlu.model:Starting to train component intent_featurizer_spacy\n",
      "INFO:rasa_nlu.model:Finished training component.\n",
      "INFO:rasa_nlu.model:Starting to train component intent_classifier_sklearn\n"
     ]
    },
    {
     "name": "stdout",
     "output_type": "stream",
     "text": [
      "Fitting 2 folds for each of 6 candidates, totalling 12 fits\n"
     ]
    },
    {
     "name": "stderr",
     "output_type": "stream",
     "text": [
      "[Parallel(n_jobs=1)]: Using backend SequentialBackend with 1 concurrent workers.\n",
      "[Parallel(n_jobs=1)]: Done  12 out of  12 | elapsed:    0.0s finished\n",
      "INFO:rasa_nlu.model:Finished training component.\n",
      "INFO:rasa_nlu.model:Starting to train component ner_synonyms\n",
      "INFO:rasa_nlu.model:Finished training component.\n",
      "INFO:rasa_nlu.model:Successfully saved model into 'D:\\Yogesh\\ToDos\\Projects\\Teaching\\Teaching_DataScience\\Jupyter\\models\\nlu\\default\\current'\n"
     ]
    }
   ],
   "source": [
    "from rasa_nlu.training_data import load_data\n",
    "from rasa_nlu.config import RasaNLUModelConfig\n",
    "from rasa_nlu.model import Trainer\n",
    "from rasa_nlu import config\n",
    "\n",
    "# loading the nlu training samples\n",
    "training_data = load_data(\"nlu.md\")\n",
    "\n",
    "# trainer to educate our pipeline\n",
    "trainer = Trainer(config.load(\"config.yml\"))\n",
    "\n",
    "# train the model!\n",
    "interpreter = trainer.train(training_data)\n",
    "\n",
    "# store it for future use\n",
    "model_directory = trainer.persist(\"./models/nlu\", fixed_model_name=\"current\")"
   ]
  },
  {
   "cell_type": "markdown",
   "metadata": {
    "colab_type": "text",
    "id": "Jrfp4xOS95ZZ"
   },
   "source": [
    "## Evaluating the NLU model on a random text"
   ]
  },
  {
   "cell_type": "code",
   "execution_count": 6,
   "metadata": {
    "colab": {
     "base_uri": "https://localhost:8080/",
     "height": 867
    },
    "colab_type": "code",
    "id": "4UjzlqMV4N1k",
    "outputId": "37ea93e5-6a71-4e8e-d2b6-a45144d184ad"
   },
   "outputs": [
    {
     "name": "stdout",
     "output_type": "stream",
     "text": [
      "{\n",
      "  \"intent\": {\n",
      "    \"name\": \"mood_unhappy\",\n",
      "    \"confidence\": 0.6937719877751085\n",
      "  },\n",
      "  \"entities\": [\n",
      "    {\n",
      "      \"start\": 35,\n",
      "      \"end\": 38,\n",
      "      \"value\": \"cats\",\n",
      "      \"entity\": \"group\",\n",
      "      \"confidence\": 0.9543162015604486,\n",
      "      \"extractor\": \"ner_crf\",\n",
      "      \"processors\": [\n",
      "        \"ner_synonyms\"\n",
      "      ]\n",
      "    }\n",
      "  ],\n",
      "  \"intent_ranking\": [\n",
      "    {\n",
      "      \"name\": \"mood_unhappy\",\n",
      "      \"confidence\": 0.6937719877751085\n",
      "    },\n",
      "    {\n",
      "      \"name\": \"mood_great\",\n",
      "      \"confidence\": 0.08991000815046545\n",
      "    },\n",
      "    {\n",
      "      \"name\": \"goodbye\",\n",
      "      \"confidence\": 0.07990359388259029\n",
      "    },\n",
      "    {\n",
      "      \"name\": \"greet\",\n",
      "      \"confidence\": 0.04721143685830545\n",
      "    },\n",
      "    {\n",
      "      \"name\": \"inform\",\n",
      "      \"confidence\": 0.03507393308464582\n",
      "    },\n",
      "    {\n",
      "      \"name\": \"mood_deny\",\n",
      "      \"confidence\": 0.027333862777911954\n",
      "    },\n",
      "    {\n",
      "      \"name\": \"mood_affirm\",\n",
      "      \"confidence\": 0.02679517747097309\n",
      "    }\n",
      "  ],\n",
      "  \"text\": \"I am very sad. Could you send me a cat picture? \"\n",
      "}\n"
     ]
    }
   ],
   "source": [
    "# A helper function for prettier output\n",
    "\n",
    "def pprint(o):   \n",
    "    print(json.dumps(o, indent=2))\n",
    "    \n",
    "pprint(interpreter.parse(\"I am very sad. Could you send me a cat picture? \"))"
   ]
  },
  {
   "cell_type": "markdown",
   "metadata": {
    "colab_type": "text",
    "id": "OPlSd-As-Fz4"
   },
   "source": [
    "## Evaluating the NLU model on a test data\n",
    "(Here we are using the data at hand i.e nlu.md but it isr recommended to use unseen data)"
   ]
  },
  {
   "cell_type": "code",
   "execution_count": 7,
   "metadata": {
    "colab": {
     "base_uri": "https://localhost:8080/",
     "height": 1483
    },
    "colab_type": "code",
    "id": "FmRCylbT4jyw",
    "outputId": "fd1bfd57-ebb3-4541-d3b3-b4cbba781164"
   },
   "outputs": [
    {
     "name": "stderr",
     "output_type": "stream",
     "text": [
      "INFO:rasa_nlu.components:Added 'nlp_spacy' to component cache. Key 'nlp_spacy-en'.\n",
      "INFO:rasa_nlu.training_data.loading:Training data format of nlu.md is md\n",
      "INFO:rasa_nlu.training_data.training_data:Training data stats: \n",
      "\t- intent examples: 85 (7 distinct intents)\n",
      "\t- Found intents: 'mood_affirm', 'goodbye', 'mood_great', 'greet', 'mood_deny', 'inform', 'mood_unhappy'\n",
      "\t- entity examples: 18 (1 distinct entities)\n",
      "\t- found entities: 'group'\n",
      "\n",
      "INFO:rasa_nlu.evaluate:Intent evaluation results:\n",
      "INFO:rasa_nlu.evaluate:Intent Evaluation: Only considering those 85 examples that have a defined intent out of 85 examples\n",
      "INFO:rasa_nlu.evaluate:F1-Score:  0.9881730469965763\n",
      "INFO:rasa_nlu.evaluate:Precision: 0.9890756302521008\n",
      "INFO:rasa_nlu.evaluate:Accuracy:  0.9882352941176471\n",
      "INFO:rasa_nlu.evaluate:Classification report: \n",
      "              precision    recall  f1-score   support\n",
      "\n",
      "     goodbye       1.00      0.91      0.95        11\n",
      "       greet       0.93      1.00      0.96        13\n",
      "      inform       1.00      1.00      1.00        10\n",
      " mood_affirm       1.00      1.00      1.00         5\n",
      "   mood_deny       1.00      1.00      1.00         6\n",
      "  mood_great       1.00      1.00      1.00        15\n",
      "mood_unhappy       1.00      1.00      1.00        25\n",
      "\n",
      "   micro avg       0.99      0.99      0.99        85\n",
      "   macro avg       0.99      0.99      0.99        85\n",
      "weighted avg       0.99      0.99      0.99        85\n",
      "\n",
      "INFO:rasa_nlu.evaluate:Model prediction errors saved to errors.json.\n",
      "INFO:rasa_nlu.evaluate:Entity evaluation results:\n",
      "INFO:rasa_nlu.evaluate:Evaluation for entity extractor: ner_crf \n",
      "INFO:rasa_nlu.evaluate:F1-Score:  1.0\n",
      "INFO:rasa_nlu.evaluate:Precision: 1.0\n",
      "INFO:rasa_nlu.evaluate:Accuracy:  1.0\n",
      "INFO:rasa_nlu.evaluate:Classification report: \n",
      "              precision    recall  f1-score   support\n",
      "\n",
      "       group       1.00      1.00      1.00        18\n",
      "   no_entity       1.00      1.00      1.00       265\n",
      "\n",
      "   micro avg       1.00      1.00      1.00       283\n",
      "   macro avg       1.00      1.00      1.00       283\n",
      "weighted avg       1.00      1.00      1.00       283\n",
      "\n"
     ]
    },
    {
     "data": {
      "text/plain": [
       "{'intent_evaluation': {'predictions': [{'text': 'hey',\n",
       "    'intent': 'greet',\n",
       "    'predicted': 'greet',\n",
       "    'confidence': 0.6000070861586673},\n",
       "   {'text': 'hello there',\n",
       "    'intent': 'greet',\n",
       "    'predicted': 'greet',\n",
       "    'confidence': 0.5063155877769056},\n",
       "   {'text': 'hi',\n",
       "    'intent': 'greet',\n",
       "    'predicted': 'greet',\n",
       "    'confidence': 0.6277834043558949},\n",
       "   {'text': 'hello there',\n",
       "    'intent': 'greet',\n",
       "    'predicted': 'greet',\n",
       "    'confidence': 0.5063155877769056},\n",
       "   {'text': 'good morning',\n",
       "    'intent': 'greet',\n",
       "    'predicted': 'greet',\n",
       "    'confidence': 0.5267843319291275},\n",
       "   {'text': 'good evening',\n",
       "    'intent': 'greet',\n",
       "    'predicted': 'greet',\n",
       "    'confidence': 0.525568372124282},\n",
       "   {'text': 'moin',\n",
       "    'intent': 'greet',\n",
       "    'predicted': 'greet',\n",
       "    'confidence': 0.5182073953744656},\n",
       "   {'text': 'hey there',\n",
       "    'intent': 'greet',\n",
       "    'predicted': 'greet',\n",
       "    'confidence': 0.5072034965565505},\n",
       "   {'text': \"let's go\",\n",
       "    'intent': 'greet',\n",
       "    'predicted': 'greet',\n",
       "    'confidence': 0.48734065886032424},\n",
       "   {'text': 'hey dude',\n",
       "    'intent': 'greet',\n",
       "    'predicted': 'greet',\n",
       "    'confidence': 0.5324009896089885},\n",
       "   {'text': 'goodmorning',\n",
       "    'intent': 'greet',\n",
       "    'predicted': 'greet',\n",
       "    'confidence': 0.5849063301815196},\n",
       "   {'text': 'goodevening',\n",
       "    'intent': 'greet',\n",
       "    'predicted': 'greet',\n",
       "    'confidence': 0.4893425703045376},\n",
       "   {'text': 'good afternoon',\n",
       "    'intent': 'greet',\n",
       "    'predicted': 'greet',\n",
       "    'confidence': 0.5220722420640502},\n",
       "   {'text': 'cu',\n",
       "    'intent': 'goodbye',\n",
       "    'predicted': 'goodbye',\n",
       "    'confidence': 0.4639582872543598},\n",
       "   {'text': 'good by',\n",
       "    'intent': 'goodbye',\n",
       "    'predicted': 'goodbye',\n",
       "    'confidence': 0.46224704251624427},\n",
       "   {'text': 'cee you later',\n",
       "    'intent': 'goodbye',\n",
       "    'predicted': 'goodbye',\n",
       "    'confidence': 0.4433006564180296},\n",
       "   {'text': 'good night',\n",
       "    'intent': 'goodbye',\n",
       "    'predicted': 'goodbye',\n",
       "    'confidence': 0.4607137932797667},\n",
       "   {'text': 'good afternoon',\n",
       "    'intent': 'goodbye',\n",
       "    'predicted': 'greet',\n",
       "    'confidence': 0.5220722420640502},\n",
       "   {'text': 'bye',\n",
       "    'intent': 'goodbye',\n",
       "    'predicted': 'goodbye',\n",
       "    'confidence': 0.5193882171191248},\n",
       "   {'text': 'goodbye',\n",
       "    'intent': 'goodbye',\n",
       "    'predicted': 'goodbye',\n",
       "    'confidence': 0.49266315541279476},\n",
       "   {'text': 'have a nice day',\n",
       "    'intent': 'goodbye',\n",
       "    'predicted': 'goodbye',\n",
       "    'confidence': 0.463919459252539},\n",
       "   {'text': 'see you around',\n",
       "    'intent': 'goodbye',\n",
       "    'predicted': 'goodbye',\n",
       "    'confidence': 0.4279592807451878},\n",
       "   {'text': 'bye bye',\n",
       "    'intent': 'goodbye',\n",
       "    'predicted': 'goodbye',\n",
       "    'confidence': 0.5193882171191248},\n",
       "   {'text': 'see you later',\n",
       "    'intent': 'goodbye',\n",
       "    'predicted': 'goodbye',\n",
       "    'confidence': 0.4438695113591948},\n",
       "   {'text': 'yes',\n",
       "    'intent': 'mood_affirm',\n",
       "    'predicted': 'mood_affirm',\n",
       "    'confidence': 0.8002188200692459},\n",
       "   {'text': 'indeed',\n",
       "    'intent': 'mood_affirm',\n",
       "    'predicted': 'mood_affirm',\n",
       "    'confidence': 0.8321816032182676},\n",
       "   {'text': 'of course',\n",
       "    'intent': 'mood_affirm',\n",
       "    'predicted': 'mood_affirm',\n",
       "    'confidence': 0.7645409511525351},\n",
       "   {'text': 'that sounds good',\n",
       "    'intent': 'mood_affirm',\n",
       "    'predicted': 'mood_affirm',\n",
       "    'confidence': 0.7888351572932482},\n",
       "   {'text': 'correct',\n",
       "    'intent': 'mood_affirm',\n",
       "    'predicted': 'mood_affirm',\n",
       "    'confidence': 0.8071690817274763},\n",
       "   {'text': 'no',\n",
       "    'intent': 'mood_deny',\n",
       "    'predicted': 'mood_deny',\n",
       "    'confidence': 0.821951135316287},\n",
       "   {'text': 'never',\n",
       "    'intent': 'mood_deny',\n",
       "    'predicted': 'mood_deny',\n",
       "    'confidence': 0.7206988327683136},\n",
       "   {'text': \"I don't think so\",\n",
       "    'intent': 'mood_deny',\n",
       "    'predicted': 'mood_deny',\n",
       "    'confidence': 0.6025010117895674},\n",
       "   {'text': \"don't like that\",\n",
       "    'intent': 'mood_deny',\n",
       "    'predicted': 'mood_deny',\n",
       "    'confidence': 0.6220357251142936},\n",
       "   {'text': 'no way',\n",
       "    'intent': 'mood_deny',\n",
       "    'predicted': 'mood_deny',\n",
       "    'confidence': 0.5567984573871932},\n",
       "   {'text': 'not really',\n",
       "    'intent': 'mood_deny',\n",
       "    'predicted': 'mood_deny',\n",
       "    'confidence': 0.6315096240116895},\n",
       "   {'text': 'perfect',\n",
       "    'intent': 'mood_great',\n",
       "    'predicted': 'mood_great',\n",
       "    'confidence': 0.6960605666114686},\n",
       "   {'text': 'very good',\n",
       "    'intent': 'mood_great',\n",
       "    'predicted': 'mood_great',\n",
       "    'confidence': 0.6412958834739952},\n",
       "   {'text': 'great',\n",
       "    'intent': 'mood_great',\n",
       "    'predicted': 'mood_great',\n",
       "    'confidence': 0.7722421003846971},\n",
       "   {'text': 'amazing',\n",
       "    'intent': 'mood_great',\n",
       "    'predicted': 'mood_great',\n",
       "    'confidence': 0.7702609118331303},\n",
       "   {'text': 'feeling like a king',\n",
       "    'intent': 'mood_great',\n",
       "    'predicted': 'mood_great',\n",
       "    'confidence': 0.5819842919441183},\n",
       "   {'text': 'wonderful',\n",
       "    'intent': 'mood_great',\n",
       "    'predicted': 'mood_great',\n",
       "    'confidence': 0.7040626764683195},\n",
       "   {'text': 'I am feeling very good',\n",
       "    'intent': 'mood_great',\n",
       "    'predicted': 'mood_great',\n",
       "    'confidence': 0.6757656848228235},\n",
       "   {'text': 'I am great',\n",
       "    'intent': 'mood_great',\n",
       "    'predicted': 'mood_great',\n",
       "    'confidence': 0.7253398548661905},\n",
       "   {'text': 'I am amazing',\n",
       "    'intent': 'mood_great',\n",
       "    'predicted': 'mood_great',\n",
       "    'confidence': 0.6991753505195764},\n",
       "   {'text': 'I am going to save the world',\n",
       "    'intent': 'mood_great',\n",
       "    'predicted': 'mood_great',\n",
       "    'confidence': 0.5787409004565643},\n",
       "   {'text': 'super',\n",
       "    'intent': 'mood_great',\n",
       "    'predicted': 'mood_great',\n",
       "    'confidence': 0.8284192902249095},\n",
       "   {'text': 'extremely good',\n",
       "    'intent': 'mood_great',\n",
       "    'predicted': 'mood_great',\n",
       "    'confidence': 0.6416785487586658},\n",
       "   {'text': 'so so perfect',\n",
       "    'intent': 'mood_great',\n",
       "    'predicted': 'mood_great',\n",
       "    'confidence': 0.6398813798658448},\n",
       "   {'text': 'so good',\n",
       "    'intent': 'mood_great',\n",
       "    'predicted': 'mood_great',\n",
       "    'confidence': 0.5709388977290547},\n",
       "   {'text': 'so perfect',\n",
       "    'intent': 'mood_great',\n",
       "    'predicted': 'mood_great',\n",
       "    'confidence': 0.7005629408326118},\n",
       "   {'text': 'my day was horrible',\n",
       "    'intent': 'mood_unhappy',\n",
       "    'predicted': 'mood_unhappy',\n",
       "    'confidence': 0.678574504247449},\n",
       "   {'text': 'I am sad',\n",
       "    'intent': 'mood_unhappy',\n",
       "    'predicted': 'mood_unhappy',\n",
       "    'confidence': 0.7905522392888429},\n",
       "   {'text': \"I don't feel very well\",\n",
       "    'intent': 'mood_unhappy',\n",
       "    'predicted': 'mood_unhappy',\n",
       "    'confidence': 0.5028378924163569},\n",
       "   {'text': 'I am disappointed',\n",
       "    'intent': 'mood_unhappy',\n",
       "    'predicted': 'mood_unhappy',\n",
       "    'confidence': 0.7132201281228818},\n",
       "   {'text': 'super sad',\n",
       "    'intent': 'mood_unhappy',\n",
       "    'predicted': 'mood_unhappy',\n",
       "    'confidence': 0.7980648830520809},\n",
       "   {'text': \"I'm so sad\",\n",
       "    'intent': 'mood_unhappy',\n",
       "    'predicted': 'mood_unhappy',\n",
       "    'confidence': 0.755426168591812},\n",
       "   {'text': 'sad',\n",
       "    'intent': 'mood_unhappy',\n",
       "    'predicted': 'mood_unhappy',\n",
       "    'confidence': 0.9127295919231093},\n",
       "   {'text': 'very sad',\n",
       "    'intent': 'mood_unhappy',\n",
       "    'predicted': 'mood_unhappy',\n",
       "    'confidence': 0.8895335903417125},\n",
       "   {'text': 'unhappy',\n",
       "    'intent': 'mood_unhappy',\n",
       "    'predicted': 'mood_unhappy',\n",
       "    'confidence': 0.8774448581945598},\n",
       "   {'text': 'bad',\n",
       "    'intent': 'mood_unhappy',\n",
       "    'predicted': 'mood_unhappy',\n",
       "    'confidence': 0.8637219443684809},\n",
       "   {'text': 'very bad',\n",
       "    'intent': 'mood_unhappy',\n",
       "    'predicted': 'mood_unhappy',\n",
       "    'confidence': 0.8163331323072278},\n",
       "   {'text': 'awful',\n",
       "    'intent': 'mood_unhappy',\n",
       "    'predicted': 'mood_unhappy',\n",
       "    'confidence': 0.8648813350399503},\n",
       "   {'text': 'terrible',\n",
       "    'intent': 'mood_unhappy',\n",
       "    'predicted': 'mood_unhappy',\n",
       "    'confidence': 0.908114862137862},\n",
       "   {'text': 'not so good',\n",
       "    'intent': 'mood_unhappy',\n",
       "    'predicted': 'mood_unhappy',\n",
       "    'confidence': 0.5972151319986303},\n",
       "   {'text': 'not very good',\n",
       "    'intent': 'mood_unhappy',\n",
       "    'predicted': 'mood_unhappy',\n",
       "    'confidence': 0.6210216568190992},\n",
       "   {'text': 'extremly sad',\n",
       "    'intent': 'mood_unhappy',\n",
       "    'predicted': 'mood_unhappy',\n",
       "    'confidence': 0.8581123144350842},\n",
       "   {'text': 'so saad',\n",
       "    'intent': 'mood_unhappy',\n",
       "    'predicted': 'mood_unhappy',\n",
       "    'confidence': 0.6727248111065565},\n",
       "   {'text': 'Quite bad - can I get a cute picture of a bird, please?',\n",
       "    'intent': 'mood_unhappy',\n",
       "    'predicted': 'mood_unhappy',\n",
       "    'confidence': 0.6053288742145237},\n",
       "   {'text': 'Really bad and only doggo pics and change that.',\n",
       "    'intent': 'mood_unhappy',\n",
       "    'predicted': 'mood_unhappy',\n",
       "    'confidence': 0.6491221182075212},\n",
       "   {'text': 'Not good. The only thing that could make me fell better is a picture of a cute kitten.',\n",
       "    'intent': 'mood_unhappy',\n",
       "    'predicted': 'mood_unhappy',\n",
       "    'confidence': 0.6112051770812656},\n",
       "   {'text': 'so sad. Only the picture of a puppy could make it better.',\n",
       "    'intent': 'mood_unhappy',\n",
       "    'predicted': 'mood_unhappy',\n",
       "    'confidence': 0.649652934585334},\n",
       "   {'text': 'I am very sad. I need a cat picture.',\n",
       "    'intent': 'mood_unhappy',\n",
       "    'predicted': 'mood_unhappy',\n",
       "    'confidence': 0.7497911928719608},\n",
       "   {'text': 'Extremely sad. Only the cute doggo pics can make me feel better.',\n",
       "    'intent': 'mood_unhappy',\n",
       "    'predicted': 'mood_unhappy',\n",
       "    'confidence': 0.699285636952943},\n",
       "   {'text': 'Bad. Please show me a bird pic!',\n",
       "    'intent': 'mood_unhappy',\n",
       "    'predicted': 'mood_unhappy',\n",
       "    'confidence': 0.6674243467722355},\n",
       "   {'text': 'Pretty bad to be honest. Can you show me a puppy picture to make me fell better?',\n",
       "    'intent': 'mood_unhappy',\n",
       "    'predicted': 'mood_unhappy',\n",
       "    'confidence': 0.6434727060226828},\n",
       "   {'text': 'A dog',\n",
       "    'intent': 'inform',\n",
       "    'predicted': 'inform',\n",
       "    'confidence': 0.7952577853252334},\n",
       "   {'text': 'dog',\n",
       "    'intent': 'inform',\n",
       "    'predicted': 'inform',\n",
       "    'confidence': 0.9259759512834352},\n",
       "   {'text': 'bird',\n",
       "    'intent': 'inform',\n",
       "    'predicted': 'inform',\n",
       "    'confidence': 0.9073429081377373},\n",
       "   {'text': 'a cat',\n",
       "    'intent': 'inform',\n",
       "    'predicted': 'inform',\n",
       "    'confidence': 0.7925981216596402},\n",
       "   {'text': 'cat',\n",
       "    'intent': 'inform',\n",
       "    'predicted': 'inform',\n",
       "    'confidence': 0.9221426570460712},\n",
       "   {'text': 'a bird',\n",
       "    'intent': 'inform',\n",
       "    'predicted': 'inform',\n",
       "    'confidence': 0.7519189273852491},\n",
       "   {'text': 'of a dog',\n",
       "    'intent': 'inform',\n",
       "    'predicted': 'inform',\n",
       "    'confidence': 0.5651891969283245},\n",
       "   {'text': 'of a cat',\n",
       "    'intent': 'inform',\n",
       "    'predicted': 'inform',\n",
       "    'confidence': 0.5616057787935829},\n",
       "   {'text': 'a bird, please',\n",
       "    'intent': 'inform',\n",
       "    'predicted': 'inform',\n",
       "    'confidence': 0.5389988157526596},\n",
       "   {'text': 'a dog, please',\n",
       "    'intent': 'inform',\n",
       "    'predicted': 'inform',\n",
       "    'confidence': 0.5714533327963884}],\n",
       "  'report': '              precision    recall  f1-score   support\\n\\n     goodbye       1.00      0.91      0.95        11\\n       greet       0.93      1.00      0.96        13\\n      inform       1.00      1.00      1.00        10\\n mood_affirm       1.00      1.00      1.00         5\\n   mood_deny       1.00      1.00      1.00         6\\n  mood_great       1.00      1.00      1.00        15\\nmood_unhappy       1.00      1.00      1.00        25\\n\\n   micro avg       0.99      0.99      0.99        85\\n   macro avg       0.99      0.99      0.99        85\\nweighted avg       0.99      0.99      0.99        85\\n',\n",
       "  'precision': 0.9890756302521008,\n",
       "  'f1_score': 0.9881730469965763,\n",
       "  'accuracy': 0.9882352941176471},\n",
       " 'entity_evaluation': {'ner_crf': {'report': '              precision    recall  f1-score   support\\n\\n       group       1.00      1.00      1.00        18\\n   no_entity       1.00      1.00      1.00       265\\n\\n   micro avg       1.00      1.00      1.00       283\\n   macro avg       1.00      1.00      1.00       283\\nweighted avg       1.00      1.00      1.00       283\\n',\n",
       "   'precision': 1.0,\n",
       "   'f1_score': 1.0,\n",
       "   'accuracy': 1.0}}}"
      ]
     },
     "execution_count": 7,
     "metadata": {},
     "output_type": "execute_result"
    }
   ],
   "source": [
    "from rasa_nlu.evaluate import run_evaluation\n",
    "\n",
    "run_evaluation(\"nlu.md\", model_directory)"
   ]
  },
  {
   "cell_type": "markdown",
   "metadata": {
    "colab_type": "text",
    "id": "Av3R2GZZ-WJO"
   },
   "source": [
    "# 2. Teaching the bot to respond using Rasa Core"
   ]
  },
  {
   "cell_type": "markdown",
   "metadata": {
    "colab_type": "text",
    "id": "BKZ63AuS-ZPV"
   },
   "source": [
    "## 1. Writing  Stories"
   ]
  },
  {
   "cell_type": "code",
   "execution_count": 8,
   "metadata": {
    "colab": {
     "base_uri": "https://localhost:8080/",
     "height": 34
    },
    "colab_type": "code",
    "id": "W3q1XJ5O4orY",
    "outputId": "a82511c7-b7e5-462c-c5c2-35df3cabd39a"
   },
   "outputs": [
    {
     "name": "stdout",
     "output_type": "stream",
     "text": [
      "Writing 'stories_md' (str) to file 'stories.md'.\n"
     ]
    }
   ],
   "source": [
    "stories_md = \"\"\"\n",
    "## happy path               <!-- name of the story - just for debugging -->\n",
    "* greet              \n",
    "  - utter_greet\n",
    "* mood_great               <!-- user utterance, in format intent[entities] -->\n",
    "  - utter_happy\n",
    "* mood_affirm\n",
    "  - utter_happy\n",
    "* mood_affirm\n",
    "  - utter_goodbye\n",
    "  \n",
    "## sad path 1               <!-- this is already the start of the next story -->\n",
    "* greet\n",
    "  - utter_greet             <!-- action the bot should execute -->\n",
    "* mood_unhappy\n",
    "  - utter_ask_picture\n",
    "* inform{\"animal\":\"dog\"}  \n",
    "  - action_retrieve_image\n",
    "  - utter_did_that_help\n",
    "* mood_affirm\n",
    "  - utter_happy\n",
    "\n",
    "## sad path 2\n",
    "* greet\n",
    "  - utter_greet\n",
    "* mood_unhappy\n",
    "  - utter_ask_picture\n",
    "* inform{\"group\":\"cat\"}\n",
    "  - action_retrieve_image\n",
    "  - utter_did_that_help\n",
    "* mood_deny\n",
    "  - utter_goodbye\n",
    "  \n",
    "## sad path 3\n",
    "* greet\n",
    "  - utter_greet\n",
    "* mood_unhappy{\"group\":\"puppy\"}\n",
    "  - action_retrieve_image\n",
    "  - utter_did_that_help\n",
    "* mood_affirm\n",
    "  - utter_happy\n",
    "  \n",
    "## strange user\n",
    "* mood_affirm\n",
    "  - utter_happy\n",
    "* mood_affirm\n",
    "  - utter_unclear\n",
    "\n",
    "## say goodbye\n",
    "* goodbye\n",
    "  - utter_goodbye\n",
    "\n",
    "## fallback\n",
    "- utter_unclear\n",
    "\n",
    "\"\"\"\n",
    "\n",
    "%store stories_md > stories.md"
   ]
  },
  {
   "cell_type": "markdown",
   "metadata": {
    "colab_type": "text",
    "id": "LnD9v_CX-ePm"
   },
   "source": [
    "## 2. Defining a Domain"
   ]
  },
  {
   "cell_type": "code",
   "execution_count": null,
   "metadata": {
    "colab": {
     "base_uri": "https://localhost:8080/",
     "height": 34
    },
    "colab_type": "code",
    "id": "3SzQq1oy5U9T",
    "outputId": "4fde8c0d-9672-457c-cacc-0e86d3ca5c80"
   },
   "outputs": [
    {
     "name": "stdout",
     "output_type": "stream",
     "text": [
      "Writing 'domain_yml' (str) to file 'domain.yml'.\n"
     ]
    }
   ],
   "source": [
    "domain_yml = \"\"\"\n",
    "intents:\n",
    "- greet\n",
    "- goodbye\n",
    "- mood_affirm\n",
    "- mood_deny\n",
    "- mood_great\n",
    "- mood_unhappy\n",
    "- inform\n",
    "\n",
    "slots:\n",
    "  group:\n",
    "    type: text\n",
    "    \n",
    "entities:\n",
    "- group\n",
    "\n",
    "actions:\n",
    "- utter_greet\n",
    "- utter_did_that_help\n",
    "- utter_happy\n",
    "- utter_goodbye\n",
    "- utter_unclear\n",
    "- utter_ask_picture\n",
    "- action_retrieve_image\n",
    "- __main__.ApiAction\n",
    "\n",
    "templates:\n",
    "  utter_greet:\n",
    "  - text: \"Hey! How are you?\"\n",
    "\n",
    "  utter_did_that_help:\n",
    "  - text: \"Did that help you?\"\n",
    "\n",
    "  utter_unclear:\n",
    "  - text: \"I am not sure what you are aiming for.\"\n",
    "  \n",
    "  utter_happy:\n",
    "  - text: \"Great carry on!\"\n",
    "\n",
    "  utter_goodbye:\n",
    "  - text: \"Bye\"\n",
    "  \n",
    "  utter_ask_picture:\n",
    "  - text: \"To cheer you up, I can show you a cute picture of a dog, cat or a bird. Which one do you choose?\"\n",
    "\"\"\"\n",
    "\n",
    "%store domain_yml > domain.yml"
   ]
  },
  {
   "cell_type": "markdown",
   "metadata": {
    "colab_type": "text",
    "id": "ROL3AYs5-iCg"
   },
   "source": [
    "## Custom Actions"
   ]
  },
  {
   "cell_type": "code",
   "execution_count": null,
   "metadata": {
    "colab": {},
    "colab_type": "code",
    "id": "7SbmLMJa5X0E"
   },
   "outputs": [
    {
     "name": "stdout",
     "output_type": "stream",
     "text": [
      "Writing 'actions_py' (str) to file 'actions.py'.\n"
     ]
    }
   ],
   "source": [
    "actions_py=\"\"\"\n",
    "from rasa_core.actions import Action\n",
    "from rasa_core.events import SlotSet\n",
    "from IPython.core.display import Image, display\n",
    "\n",
    "import requests\n",
    "\n",
    "class ApiAction(Action):\n",
    "    def name(self):\n",
    "        return \"action_retrieve_image\"\n",
    "\n",
    "    def run(self, dispatcher, tracker, domain):\n",
    "        \n",
    "        group = tracker.get_slot('group')\n",
    "        \n",
    "        r = requests.get('http://shibe.online/api/{}?count=1&urls=true&httpsUrls=true'.format(group))\n",
    "        response = r.content.decode()\n",
    "        response = response.replace('[\"',\"\")\n",
    "        response = response.replace('\"]',\"\")\n",
    "   \n",
    "        \n",
    "        #display(Image(response[0], height=550, width=520))\n",
    "        dispatcher.utter_message(\"Here is something to cheer you up: {}\".format(response))\n",
    "\"\"\"\n",
    "%store actions_py > actions.py"
   ]
  },
  {
   "cell_type": "markdown",
   "metadata": {},
   "source": [
    "Need endpoints yml to execute the actions server"
   ]
  },
  {
   "cell_type": "code",
   "execution_count": null,
   "metadata": {},
   "outputs": [
    {
     "name": "stdout",
     "output_type": "stream",
     "text": [
      "Writing 'endpoints_yml' (str) to file 'endpoints.yml'.\n"
     ]
    }
   ],
   "source": [
    "endpoints_yml = \"\"\"\n",
    "action_endpoint:\n",
    "  url: \"http://localhost:5055/webhook/\"\n",
    "\"\"\"\n",
    "%store endpoints_yml > endpoints.yml"
   ]
  },
  {
   "cell_type": "code",
   "execution_count": null,
   "metadata": {},
   "outputs": [],
   "source": [
    "# import sys\n",
    "# python = sys.executable\n",
    "# !{python} -m rasa_core_sdk.endpoint --actions actions"
   ]
  },
  {
   "cell_type": "markdown",
   "metadata": {
    "colab_type": "text",
    "id": "M-jn1g_k-o-m"
   },
   "source": [
    "##  Visualising the Training Data"
   ]
  },
  {
   "cell_type": "code",
   "execution_count": null,
   "metadata": {
    "colab": {
     "base_uri": "https://localhost:8080/",
     "height": 1090
    },
    "colab_type": "code",
    "id": "O1gYRXe15amU",
    "outputId": "9c0838e3-56c1-4eeb-a879-cc09619269d3"
   },
   "outputs": [
    {
     "name": "stderr",
     "output_type": "stream",
     "text": [
      "INFO:apscheduler.scheduler:Scheduler started\n",
      "Processed Story Blocks: 100%|█████| 7/7 [00:00<00:00, 448.71it/s, # trackers=1]\n"
     ]
    },
    {
     "data": {
      "image/png": "[encoded data removed]",
      "text/plain": [
       "<IPython.core.display.Image object>"
      ]
     },
     "metadata": {},
     "output_type": "display_data"
    }
   ],
   "source": [
    "\n",
    "from IPython.display import Image, display\n",
    "from rasa_core.agent import Agent\n",
    "\n",
    "agent = Agent('domain.yml')\n",
    "agent.visualize(\"stories.md\", \"story_graph.png\", max_history=2)\n",
    "display(Image(filename=\"story_graph.png\"))"
   ]
  },
  {
   "cell_type": "markdown",
   "metadata": {
    "colab_type": "text",
    "id": "pCdKD3l7-ua8"
   },
   "source": [
    "## Training a Dialogue Model"
   ]
  },
  {
   "cell_type": "code",
   "execution_count": null,
   "metadata": {
    "colab": {
     "base_uri": "https://localhost:8080/",
     "height": 7364
    },
    "colab_type": "code",
    "id": "4D7R-FRO5dxz",
    "outputId": "727adf2a-fa4b-4158-df94-30ad472f62f3"
   },
   "outputs": [
    {
     "name": "stderr",
     "output_type": "stream",
     "text": [
      "Processed Story Blocks: 100%|█████| 7/7 [00:00<00:00, 448.73it/s, # trackers=1]\n",
      "Processed Story Blocks: 100%|█████| 7/7 [00:00<00:00, 448.71it/s, # trackers=7]\n",
      "Processed Story Blocks: 100%|████| 7/7 [00:00<00:00, 224.36it/s, # trackers=11]\n",
      "Processed Story Blocks: 100%|████| 7/7 [00:00<00:00, 448.72it/s, # trackers=12]\n",
      "Processed actions: 84it [00:00, 333.86it/s, # examples=78]\n"
     ]
    },
    {
     "name": "stdout",
     "output_type": "stream",
     "text": [
      "_________________________________________________________________\n",
      "Layer (type)                 Output Shape              Param #   \n",
      "=================================================================\n",
      "masking (Masking)            (None, 5, 24)             0         \n",
      "_________________________________________________________________\n",
      "lstm (LSTM)                  (None, 32)                7296      \n",
      "_________________________________________________________________\n",
      "dense (Dense)                (None, 15)                495       \n",
      "_________________________________________________________________\n",
      "activation (Activation)      (None, 15)                0         \n",
      "=================================================================\n",
      "Total params: 7,791\n",
      "Trainable params: 7,791\n",
      "Non-trainable params: 0\n",
      "_________________________________________________________________\n"
     ]
    },
    {
     "name": "stderr",
     "output_type": "stream",
     "text": [
      "INFO:rasa_core.policies.keras_policy:Fitting model with 240 total samples and a validation split of 0.1\n"
     ]
    },
    {
     "name": "stdout",
     "output_type": "stream",
     "text": [
      "Epoch 1/100\n",
      "240/240 [==============================] - ETA: 35s - loss: 2.7341 - acc: 0.06 - 6s 23ms/step - loss: 2.6618 - acc: 0.1625\n",
      "Epoch 2/100\n",
      "240/240 [==============================] - ETA: 0s - loss: 2.6202 - acc: 0.250 - 0s 130us/step - loss: 2.5361 - acc: 0.3625\n",
      "Epoch 3/100\n",
      "240/240 [==============================] - ETA: 0s - loss: 2.4992 - acc: 0.312 - 0s 130us/step - loss: 2.3980 - acc: 0.4667\n",
      "Epoch 4/100\n",
      "240/240 [==============================] - ETA: 0s - loss: 2.3738 - acc: 0.343 - 0s 195us/step - loss: 2.2499 - acc: 0.4708\n",
      "Epoch 5/100\n",
      "240/240 [==============================] - ETA: 0s - loss: 2.2531 - acc: 0.343 - 0s 195us/step - loss: 2.0851 - acc: 0.4708\n",
      "Epoch 6/100\n",
      "240/240 [==============================] - ETA: 0s - loss: 2.1089 - acc: 0.343 - 0s 195us/step - loss: 1.9452 - acc: 0.4708\n",
      "Epoch 7/100\n",
      "240/240 [==============================] - ETA: 0s - loss: 2.0348 - acc: 0.343 - 0s 195us/step - loss: 1.8427 - acc: 0.4708\n",
      "Epoch 8/100\n",
      "240/240 [==============================] - ETA: 0s - loss: 2.0216 - acc: 0.343 - 0s 130us/step - loss: 1.8202 - acc: 0.4708\n",
      "Epoch 9/100\n",
      "240/240 [==============================] - ETA: 0s - loss: 2.0233 - acc: 0.343 - 0s 195us/step - loss: 1.7683 - acc: 0.4708\n",
      "Epoch 10/100\n",
      "240/240 [==============================] - ETA: 0s - loss: 1.9731 - acc: 0.343 - 0s 130us/step - loss: 1.7471 - acc: 0.4708\n",
      "Epoch 11/100\n",
      "240/240 [==============================] - ETA: 0s - loss: 1.9352 - acc: 0.343 - 0s 130us/step - loss: 1.7288 - acc: 0.4708\n",
      "Epoch 12/100\n",
      "240/240 [==============================] - ETA: 0s - loss: 1.8520 - acc: 0.343 - 0s 195us/step - loss: 1.6767 - acc: 0.4708\n",
      "Epoch 13/100\n",
      "240/240 [==============================] - ETA: 0s - loss: 1.8408 - acc: 0.343 - 0s 195us/step - loss: 1.6544 - acc: 0.4708\n",
      "Epoch 14/100\n",
      "240/240 [==============================] - ETA: 0s - loss: 1.8069 - acc: 0.343 - 0s 130us/step - loss: 1.6367 - acc: 0.4708\n",
      "Epoch 15/100\n",
      "240/240 [==============================] - ETA: 0s - loss: 1.8135 - acc: 0.343 - 0s 130us/step - loss: 1.6127 - acc: 0.4708\n",
      "Epoch 16/100\n",
      "240/240 [==============================] - ETA: 0s - loss: 1.8041 - acc: 0.343 - 0s 195us/step - loss: 1.6079 - acc: 0.4708\n",
      "Epoch 17/100\n",
      "240/240 [==============================] - ETA: 0s - loss: 1.7327 - acc: 0.343 - 0s 195us/step - loss: 1.5640 - acc: 0.4708\n",
      "Epoch 18/100\n",
      "240/240 [==============================] - ETA: 0s - loss: 1.6979 - acc: 0.343 - 0s 195us/step - loss: 1.5406 - acc: 0.4708\n",
      "Epoch 19/100\n",
      "240/240 [==============================] - ETA: 0s - loss: 1.7118 - acc: 0.343 - 0s 130us/step - loss: 1.5356 - acc: 0.4708\n",
      "Epoch 20/100\n",
      "240/240 [==============================] - ETA: 0s - loss: 1.7104 - acc: 0.343 - 0s 130us/step - loss: 1.5048 - acc: 0.4708\n",
      "Epoch 21/100\n",
      "240/240 [==============================] - ETA: 0s - loss: 1.6566 - acc: 0.343 - 0s 195us/step - loss: 1.4833 - acc: 0.4708\n",
      "Epoch 22/100\n",
      "240/240 [==============================] - ETA: 0s - loss: 1.6467 - acc: 0.343 - 0s 195us/step - loss: 1.4621 - acc: 0.4708\n",
      "Epoch 23/100\n",
      "240/240 [==============================] - ETA: 0s - loss: 1.6244 - acc: 0.343 - 0s 130us/step - loss: 1.4459 - acc: 0.4708\n",
      "Epoch 24/100\n",
      "240/240 [==============================] - ETA: 0s - loss: 1.5762 - acc: 0.343 - 0s 130us/step - loss: 1.4272 - acc: 0.4750\n",
      "Epoch 25/100\n",
      "240/240 [==============================] - ETA: 0s - loss: 1.5706 - acc: 0.343 - 0s 195us/step - loss: 1.4066 - acc: 0.4750\n",
      "Epoch 26/100\n",
      "240/240 [==============================] - ETA: 0s - loss: 1.4874 - acc: 0.343 - 0s 195us/step - loss: 1.3696 - acc: 0.4750\n",
      "Epoch 27/100\n",
      "240/240 [==============================] - ETA: 0s - loss: 1.5226 - acc: 0.343 - 0s 195us/step - loss: 1.3575 - acc: 0.4958\n",
      "Epoch 28/100\n",
      "240/240 [==============================] - ETA: 0s - loss: 1.5079 - acc: 0.343 - 0s 195us/step - loss: 1.3353 - acc: 0.4833\n",
      "Epoch 29/100\n",
      "240/240 [==============================] - ETA: 0s - loss: 1.4174 - acc: 0.375 - 0s 130us/step - loss: 1.3024 - acc: 0.5208\n",
      "Epoch 30/100\n",
      "240/240 [==============================] - ETA: 0s - loss: 1.3846 - acc: 0.375 - 0s 130us/step - loss: 1.2743 - acc: 0.5042\n",
      "Epoch 31/100\n",
      "240/240 [==============================] - ETA: 0s - loss: 1.4175 - acc: 0.343 - 0s 130us/step - loss: 1.2653 - acc: 0.5208\n",
      "Epoch 32/100\n",
      "240/240 [==============================] - ETA: 0s - loss: 1.4174 - acc: 0.343 - 0s 226us/step - loss: 1.2345 - acc: 0.5375\n",
      "Epoch 33/100\n",
      "240/240 [==============================] - ETA: 0s - loss: 1.3630 - acc: 0.343 - 0s 128us/step - loss: 1.2105 - acc: 0.5500\n",
      "Epoch 34/100\n",
      "240/240 [==============================] - ETA: 0s - loss: 1.3382 - acc: 0.375 - 0s 195us/step - loss: 1.1794 - acc: 0.5500\n",
      "Epoch 35/100\n",
      "240/240 [==============================] - ETA: 0s - loss: 1.2830 - acc: 0.406 - 0s 195us/step - loss: 1.1531 - acc: 0.5750\n",
      "Epoch 36/100\n",
      "240/240 [==============================] - ETA: 0s - loss: 1.3331 - acc: 0.343 - 0s 195us/step - loss: 1.1631 - acc: 0.5417\n",
      "Epoch 37/100\n",
      "240/240 [==============================] - ETA: 0s - loss: 1.2740 - acc: 0.406 - 0s 195us/step - loss: 1.1125 - acc: 0.5750\n",
      "Epoch 38/100\n",
      "240/240 [==============================] - ETA: 0s - loss: 1.3011 - acc: 0.406 - 0s 195us/step - loss: 1.1050 - acc: 0.5708\n",
      "Epoch 39/100\n",
      "240/240 [==============================] - ETA: 0s - loss: 1.2137 - acc: 0.437 - 0s 195us/step - loss: 1.0662 - acc: 0.5875\n",
      "Epoch 40/100\n",
      "240/240 [==============================] - ETA: 0s - loss: 1.1965 - acc: 0.468 - 0s 195us/step - loss: 1.0658 - acc: 0.5750\n",
      "Epoch 41/100\n",
      "240/240 [==============================] - ETA: 0s - loss: 1.1695 - acc: 0.500 - 0s 195us/step - loss: 1.0247 - acc: 0.5958\n",
      "Epoch 42/100\n",
      "240/240 [==============================] - ETA: 0s - loss: 1.1633 - acc: 0.468 - 0s 195us/step - loss: 1.0073 - acc: 0.6292\n",
      "Epoch 43/100\n",
      "240/240 [==============================] - ETA: 0s - loss: 1.1350 - acc: 0.468 - 0s 130us/step - loss: 0.9835 - acc: 0.6292\n",
      "Epoch 44/100\n",
      "240/240 [==============================] - ETA: 0s - loss: 1.0928 - acc: 0.562 - 0s 195us/step - loss: 0.9524 - acc: 0.6792\n",
      "Epoch 45/100\n",
      "240/240 [==============================] - ETA: 0s - loss: 1.0846 - acc: 0.500 - 0s 195us/step - loss: 0.9303 - acc: 0.6875\n",
      "Epoch 46/100\n",
      "240/240 [==============================] - ETA: 0s - loss: 1.0840 - acc: 0.687 - 0s 195us/step - loss: 0.9056 - acc: 0.7167\n",
      "Epoch 47/100\n",
      "240/240 [==============================] - ETA: 0s - loss: 0.9408 - acc: 0.687 - 0s 195us/step - loss: 0.8530 - acc: 0.7375\n",
      "Epoch 48/100\n",
      "240/240 [==============================] - ETA: 0s - loss: 0.9436 - acc: 0.718 - 0s 195us/step - loss: 0.8528 - acc: 0.7333\n",
      "Epoch 49/100\n",
      "240/240 [==============================] - ETA: 0s - loss: 0.9594 - acc: 0.718 - 0s 195us/step - loss: 0.8356 - acc: 0.7500\n",
      "Epoch 50/100\n",
      "240/240 [==============================] - ETA: 0s - loss: 0.9213 - acc: 0.687 - 0s 195us/step - loss: 0.8046 - acc: 0.7792\n",
      "Epoch 51/100\n",
      "240/240 [==============================] - ETA: 0s - loss: 0.8622 - acc: 0.781 - 0s 195us/step - loss: 0.7995 - acc: 0.7833\n",
      "Epoch 52/100\n",
      "240/240 [==============================] - ETA: 0s - loss: 0.8844 - acc: 0.750 - 0s 130us/step - loss: 0.7581 - acc: 0.7792\n",
      "Epoch 53/100\n",
      "240/240 [==============================] - ETA: 0s - loss: 0.8828 - acc: 0.718 - 0s 130us/step - loss: 0.7461 - acc: 0.8167\n",
      "Epoch 54/100\n",
      "240/240 [==============================] - ETA: 0s - loss: 0.9101 - acc: 0.656 - 0s 195us/step - loss: 0.7336 - acc: 0.7917\n",
      "Epoch 55/100\n",
      "240/240 [==============================] - ETA: 0s - loss: 0.8746 - acc: 0.718 - 0s 195us/step - loss: 0.7238 - acc: 0.8083\n",
      "Epoch 56/100\n",
      "240/240 [==============================] - ETA: 0s - loss: 0.8353 - acc: 0.781 - 0s 195us/step - loss: 0.7079 - acc: 0.8208\n",
      "Epoch 57/100\n",
      "240/240 [==============================] - ETA: 0s - loss: 0.7748 - acc: 0.875 - 0s 130us/step - loss: 0.6821 - acc: 0.8417\n",
      "Epoch 58/100\n",
      "240/240 [==============================] - ETA: 0s - loss: 0.7534 - acc: 0.875 - 0s 130us/step - loss: 0.6615 - acc: 0.8667\n",
      "Epoch 59/100\n",
      "240/240 [==============================] - ETA: 0s - loss: 0.6903 - acc: 0.781 - 0s 195us/step - loss: 0.6465 - acc: 0.8458\n",
      "Epoch 60/100\n",
      "240/240 [==============================] - ETA: 0s - loss: 0.7495 - acc: 0.750 - 0s 195us/step - loss: 0.6466 - acc: 0.8375\n"
     ]
    },
    {
     "name": "stdout",
     "output_type": "stream",
     "text": [
      "Epoch 61/100\n",
      "240/240 [==============================] - ETA: 0s - loss: 0.6961 - acc: 0.906 - 0s 195us/step - loss: 0.6154 - acc: 0.8833\n",
      "Epoch 62/100\n",
      "240/240 [==============================] - ETA: 0s - loss: 0.6637 - acc: 0.875 - 0s 130us/step - loss: 0.6047 - acc: 0.8583\n",
      "Epoch 63/100\n",
      "240/240 [==============================] - ETA: 0s - loss: 0.7046 - acc: 0.875 - 0s 130us/step - loss: 0.5965 - acc: 0.8833\n",
      "Epoch 64/100\n",
      "240/240 [==============================] - ETA: 0s - loss: 0.6787 - acc: 0.843 - 0s 195us/step - loss: 0.5784 - acc: 0.8875\n",
      "Epoch 65/100\n",
      "240/240 [==============================] - ETA: 0s - loss: 0.6393 - acc: 0.843 - 0s 195us/step - loss: 0.5875 - acc: 0.8625\n",
      "Epoch 66/100\n",
      "240/240 [==============================] - ETA: 0s - loss: 0.6547 - acc: 0.875 - 0s 130us/step - loss: 0.5558 - acc: 0.8958\n",
      "Epoch 67/100\n",
      "240/240 [==============================] - ETA: 0s - loss: 0.6446 - acc: 0.937 - 0s 130us/step - loss: 0.5555 - acc: 0.8792\n",
      "Epoch 68/100\n",
      "240/240 [==============================] - ETA: 0s - loss: 0.6806 - acc: 0.812 - 0s 195us/step - loss: 0.5394 - acc: 0.8792\n",
      "Epoch 69/100\n",
      "240/240 [==============================] - ETA: 0s - loss: 0.6257 - acc: 0.750 - 0s 195us/step - loss: 0.5216 - acc: 0.8917\n",
      "Epoch 70/100\n",
      "240/240 [==============================] - ETA: 0s - loss: 0.6796 - acc: 0.843 - 0s 195us/step - loss: 0.5339 - acc: 0.8917\n",
      "Epoch 71/100\n",
      "240/240 [==============================] - ETA: 0s - loss: 0.6167 - acc: 0.937 - 0s 130us/step - loss: 0.5068 - acc: 0.8958\n",
      "Epoch 72/100\n",
      "240/240 [==============================] - ETA: 0s - loss: 0.5464 - acc: 0.937 - 0s 130us/step - loss: 0.4839 - acc: 0.9125\n",
      "Epoch 73/100\n",
      "240/240 [==============================] - ETA: 0s - loss: 0.5810 - acc: 0.843 - 0s 195us/step - loss: 0.4776 - acc: 0.9042\n",
      "Epoch 74/100\n",
      "240/240 [==============================] - ETA: 0s - loss: 0.5458 - acc: 0.843 - 0s 195us/step - loss: 0.4935 - acc: 0.8708\n",
      "Epoch 75/100\n",
      "240/240 [==============================] - ETA: 0s - loss: 0.4950 - acc: 0.937 - 0s 130us/step - loss: 0.4708 - acc: 0.8917\n",
      "Epoch 76/100\n",
      "240/240 [==============================] - ETA: 0s - loss: 0.5781 - acc: 0.906 - 0s 195us/step - loss: 0.4497 - acc: 0.9250\n",
      "Epoch 77/100\n",
      "240/240 [==============================] - ETA: 0s - loss: 0.5133 - acc: 0.937 - 0s 195us/step - loss: 0.4613 - acc: 0.9208\n",
      "Epoch 78/100\n",
      "240/240 [==============================] - ETA: 0s - loss: 0.4337 - acc: 0.906 - 0s 195us/step - loss: 0.4256 - acc: 0.8958\n",
      "Epoch 79/100\n",
      "240/240 [==============================] - ETA: 0s - loss: 0.4235 - acc: 0.937 - 0s 195us/step - loss: 0.3901 - acc: 0.9292\n",
      "Epoch 80/100\n",
      "240/240 [==============================] - ETA: 0s - loss: 0.4715 - acc: 0.968 - 0s 195us/step - loss: 0.4086 - acc: 0.9208\n",
      "Epoch 81/100\n",
      "240/240 [==============================] - ETA: 0s - loss: 0.4509 - acc: 0.968 - 0s 130us/step - loss: 0.4053 - acc: 0.9250\n",
      "Epoch 82/100\n",
      "240/240 [==============================] - ETA: 0s - loss: 0.4466 - acc: 0.937 - 0s 130us/step - loss: 0.3834 - acc: 0.9417\n",
      "Epoch 83/100\n",
      "240/240 [==============================] - ETA: 0s - loss: 0.4404 - acc: 1.000 - 0s 199us/step - loss: 0.4026 - acc: 0.9208\n",
      "Epoch 84/100\n",
      "240/240 [==============================] - ETA: 0s - loss: 0.4891 - acc: 0.906 - 0s 130us/step - loss: 0.3532 - acc: 0.9500\n",
      "Epoch 85/100\n",
      "240/240 [==============================] - ETA: 0s - loss: 0.4167 - acc: 0.968 - 0s 130us/step - loss: 0.3779 - acc: 0.9250\n",
      "Epoch 86/100\n",
      "240/240 [==============================] - ETA: 0s - loss: 0.4077 - acc: 0.968 - 0s 195us/step - loss: 0.3548 - acc: 0.9375\n",
      "Epoch 87/100\n",
      "240/240 [==============================] - ETA: 0s - loss: 0.4126 - acc: 0.906 - 0s 130us/step - loss: 0.3535 - acc: 0.9500\n",
      "Epoch 88/100\n",
      "240/240 [==============================] - ETA: 0s - loss: 0.4481 - acc: 0.906 - 0s 134us/step - loss: 0.3453 - acc: 0.9333\n",
      "Epoch 89/100\n",
      "240/240 [==============================] - ETA: 0s - loss: 0.4249 - acc: 0.937 - 0s 195us/step - loss: 0.3317 - acc: 0.9333\n",
      "Epoch 90/100\n",
      "240/240 [==============================] - ETA: 0s - loss: 0.3831 - acc: 0.968 - 0s 195us/step - loss: 0.3382 - acc: 0.9333\n",
      "Epoch 91/100\n",
      "240/240 [==============================] - ETA: 0s - loss: 0.3960 - acc: 0.968 - 0s 130us/step - loss: 0.3251 - acc: 0.9583\n",
      "Epoch 92/100\n",
      "240/240 [==============================] - ETA: 0s - loss: 0.3724 - acc: 0.937 - 0s 195us/step - loss: 0.3261 - acc: 0.9417\n",
      "Epoch 93/100\n",
      "240/240 [==============================] - ETA: 0s - loss: 0.3500 - acc: 1.000 - 0s 260us/step - loss: 0.3183 - acc: 0.9375\n",
      "Epoch 94/100\n",
      "240/240 [==============================] - ETA: 0s - loss: 0.3546 - acc: 0.968 - 0s 260us/step - loss: 0.2963 - acc: 0.9500\n",
      "Epoch 95/100\n",
      "240/240 [==============================] - ETA: 0s - loss: 0.2928 - acc: 1.000 - 0s 260us/step - loss: 0.2950 - acc: 0.9458\n",
      "Epoch 96/100\n",
      "240/240 [==============================] - ETA: 0s - loss: 0.3916 - acc: 0.906 - 0s 260us/step - loss: 0.3039 - acc: 0.9417\n",
      "Epoch 97/100\n",
      "240/240 [==============================] - ETA: 0s - loss: 0.4303 - acc: 0.875 - 0s 260us/step - loss: 0.3175 - acc: 0.9333\n",
      "Epoch 98/100\n",
      "240/240 [==============================] - ETA: 0s - loss: 0.3203 - acc: 1.000 - 0s 195us/step - loss: 0.2961 - acc: 0.9458\n",
      "Epoch 99/100\n",
      "240/240 [==============================] - ETA: 0s - loss: 0.3641 - acc: 0.937 - 0s 130us/step - loss: 0.2802 - acc: 0.9375\n",
      "Epoch 100/100\n",
      "240/240 [==============================] - ETA: 0s - loss: 0.4276 - acc: 0.937 - 0s 195us/step - loss: 0.2794 - acc: 0.9500\n"
     ]
    },
    {
     "name": "stderr",
     "output_type": "stream",
     "text": [
      "INFO:rasa_core.policies.keras_policy:Done fitting keras policy model\n",
      "INFO:rasa_core.agent:Model directory models/dialogue exists and contains old model files. All files will be overwritten.\n",
      "INFO:rasa_core.agent:Persisted model to 'D:\\Yogesh\\ToDos\\Projects\\Teaching\\Teaching_DataScience\\Jupyter\\models\\dialogue'\n"
     ]
    }
   ],
   "source": [
    "from rasa_core.policies import FallbackPolicy, KerasPolicy, MemoizationPolicy\n",
    "from rasa_core.agent import Agent\n",
    "\n",
    "# this will catch predictions the model isn't very certain about\n",
    "# there is a threshold for the NLU predictions as well as the action predictions\n",
    "fallback = FallbackPolicy(fallback_action_name=\"utter_unclear\",\n",
    "                          core_threshold=0.2,\n",
    "                          nlu_threshold=0.1)\n",
    "\n",
    "# agent = Agent('domain.yml', policies=[MemoizationPolicy(), KerasPolicy(), fallback])\n",
    "\n",
    "agent = Agent('domain.yml', policies = [MemoizationPolicy(max_history=2), KerasPolicy()])\n",
    "# loading our neatly defined training dialogues\n",
    "training_data = agent.load_data('stories.md')\n",
    "\n",
    "agent.train(training_data)\n",
    "# agent.train(\n",
    "#     training_data,\n",
    "#     validation_split=0.0,\n",
    "#     epochs=200\n",
    "# )\n",
    "\n",
    "agent.persist('models/dialogue')"
   ]
  },
  {
   "cell_type": "markdown",
   "metadata": {
    "colab_type": "text",
    "id": "c4911z6y-5rD"
   },
   "source": [
    "# Talk to your Bot"
   ]
  },
  {
   "cell_type": "code",
   "execution_count": null,
   "metadata": {
    "colab": {
     "base_uri": "https://localhost:8080/",
     "height": 34
    },
    "colab_type": "code",
    "id": "nE4coPam5hry",
    "outputId": "c8ec135b-882b-4e9e-a955-f3e184177817"
   },
   "outputs": [
    {
     "name": "stderr",
     "output_type": "stream",
     "text": [
      "WARNING:rasa_core.agent:Passing a value for interpreter to an agent where the value is not an interpreter is deprecated. Construct the interpreter, beforepassing it to the agent, e.g. `interpreter = NaturalLanguageInterpreter.create(nlu)`.\n",
      "INFO:rasa_nlu.components:Added 'nlp_spacy' to component cache. Key 'nlp_spacy-en'.\n"
     ]
    }
   ],
   "source": [
    "#Starting the Bot\n",
    "\n",
    "from rasa_core.agent import Agent\n",
    "agent = Agent.load('models/dialogue', interpreter=model_directory)"
   ]
  },
  {
   "cell_type": "code",
   "execution_count": null,
   "metadata": {
    "colab": {
     "base_uri": "https://localhost:8080/",
     "height": 292
    },
    "colab_type": "code",
    "id": "DDVLzhAT5yrP",
    "outputId": "aee3fc83-df97-42b4-c7e0-c8929f76337c"
   },
   "outputs": [
    {
     "name": "stdout",
     "output_type": "stream",
     "text": [
      "Your bot is ready to talk! Type your messages here or send 'stop'\n",
      "Hi\n",
      "Hey! How are you?\n",
      "I am sad\n",
      "To cheer you up, I can show you a cute picture of a dog, cat or a bird. Which one do you choose?\n",
      "dog\n"
     ]
    },
    {
     "name": "stderr",
     "output_type": "stream",
     "text": [
      "ERROR:rasa_core.processor:Encountered an exception while running action 'action_retrieve_image'. Bot will continue, but the actions events are lost. Make sure to fix the exception in your custom code.\n"
     ]
    },
    {
     "name": "stdout",
     "output_type": "stream",
     "text": [
      "Did that help you?\n",
      "no\n",
      "Bye\n"
     ]
    }
   ],
   "source": [
    "print(\"Your bot is ready to talk! Type your messages here or send 'stop'\")\n",
    "while True:\n",
    "    a = input()\n",
    "    if a == 'stop':\n",
    "        break\n",
    "    responses = agent.handle_text(a)\n",
    "    for response in responses:\n",
    "        print(response[\"text\"])\n",
    "        "
   ]
  },
  {
   "cell_type": "code",
   "execution_count": null,
   "metadata": {
    "colab": {},
    "colab_type": "code",
    "id": "enJNkbvB54y1"
   },
   "outputs": [],
   "source": []
  }
 ],
 "metadata": {
  "accelerator": "GPU",
  "anaconda-cloud": {},
  "colab": {
   "include_colab_link": true,
   "name": "Conversational_Chatbot.ipynb",
   "provenance": [],
   "version": "0.3.2"
  },
  "kernelspec": {
   "display_name": "rasa",
   "language": "python",
   "name": "rasa"
  },
  "language_info": {
   "codemirror_mode": {
    "name": "ipython",
    "version": 3
   },
   "file_extension": ".py",
   "mimetype": "text/x-python",
   "name": "python",
   "nbconvert_exporter": "python",
   "pygments_lexer": "ipython3",
   "version": "3.6.8"
  }
 },
 "nbformat": 4,
 "nbformat_minor": 1
}
